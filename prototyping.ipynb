{
 "cells": [
  {
   "cell_type": "markdown",
   "metadata": {},
   "source": [
    "# Prototyping of the data-recovery from PHP source\n",
    "Goal of this notebook is to provide a proof-of-concept for the bot's core using *BeautifulSoup*"
   ]
  },
  {
   "cell_type": "code",
   "execution_count": 20,
   "metadata": {},
   "outputs": [],
   "source": [
    "import requests\n",
    "from bs4 import BeautifulSoup\n",
    "\n",
    "url='http://optimasolar.solarlog-web.ch/sds/module/solarlogweb/Statistik.php?s=b503af4849c530eeaf7e1ebb4f40477f&m=SolarLogWeb&c=32393&mode=0&logid=5585&offset=0&r=131593278'\n",
    "params ={'selectplane':'Cessna 208 Caravan','submit':''}\n",
    "\n",
    "response=requests.post(url, data=params)\n",
    "soup = BeautifulSoup(response.text, 'html5lib')\n",
    "#print(soup)"
   ]
  },
  {
   "cell_type": "code",
   "execution_count": 21,
   "metadata": {},
   "outputs": [
    {
     "name": "stdout",
     "output_type": "stream",
     "text": [
      "0 kW  | 119.48 kWh\n"
     ]
    }
   ],
   "source": [
    "soup_string = str(soup)\n",
    "ind_start = 21+soup_string.find('<text x=\"225\" y=\"30\">')#<text x=\"225\" y=\"30\">\n",
    "ind_stop  = soup_string.find('<',ind_start)\n",
    "Power = soup_string[ind_start:ind_stop]\n",
    "\n",
    "ind_start = 12+soup_string.find('x1=\"42\" y1=\"');\n",
    "ind_stop  = soup_string.find('\"',ind_start)\n",
    "Yield = soup_string[ind_start:ind_stop]\n",
    "print(Power,'kW  |',Yield,'kWh')\n"
   ]
  },
  {
   "cell_type": "markdown",
   "metadata": {
    "collapsed": true
   },
   "source": [
    "Improvements needed: \n",
    "* isolate the integer from power data *(satus:discarded)*\n",
    "* differentiate between kW and W w/o parasitic character *(satus:done)*\n",
    "* adjust the yield range to keep only the integer value *(satus:discarded)*"
   ]
  },
  {
   "cell_type": "code",
   "execution_count": null,
   "metadata": {
    "collapsed": true
   },
   "outputs": [],
   "source": []
  }
 ],
 "metadata": {
  "kernelspec": {
   "display_name": "Python 3",
   "language": "python",
   "name": "python3"
  },
  "language_info": {
   "codemirror_mode": {
    "name": "ipython",
    "version": 3
   },
   "file_extension": ".py",
   "mimetype": "text/x-python",
   "name": "python",
   "nbconvert_exporter": "python",
   "pygments_lexer": "ipython3",
   "version": "3.6.1"
  }
 },
 "nbformat": 4,
 "nbformat_minor": 2
}
