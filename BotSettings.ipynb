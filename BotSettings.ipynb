{
 "cells": [
  {
   "cell_type": "markdown",
   "metadata": {},
   "source": [
    "# Setting up the bot and pushing functions\n",
    "Setting up of the bot following this [Reference](https://github.com/python-telegram-bot/python-telegram-bot/wiki/Extensions-–-Your-first-Bot)"
   ]
  },
  {
   "cell_type": "code",
   "execution_count": 7,
   "metadata": {},
   "outputs": [],
   "source": [
    "from telegram.ext import Updater, InlineQueryHandler, CommandHandler\n",
    "import requests\n",
    "from bs4 import BeautifulSoup"
   ]
  },
  {
   "cell_type": "code",
   "execution_count": 8,
   "metadata": {},
   "outputs": [],
   "source": [
    "updater = Updater(token='986011106:AAGpJ2K4udf8rlW1cUReKpstqmN2LUNe5EM', use_context=True)"
   ]
  },
  {
   "cell_type": "code",
   "execution_count": 9,
   "metadata": {},
   "outputs": [],
   "source": [
    "def getPow():\n",
    "    url='http://optimasolar.solarlog-web.ch/sds/module/solarlogweb/Statistik.php?s=b503af4849c530eeaf7e1ebb4f40477f&m=SolarLogWeb&c=32393&mode=0&logid=5585&offset=0&r=131593278'\n",
    "    params ={'selectplane':'Cessna 208 Caravan','submit':''}\n",
    "    response=requests.post(url, data=params)\n",
    "    soup = BeautifulSoup(response.text, 'html5lib')\n",
    "    soup_string = str(soup)\n",
    "    ind_start = 21+soup_string.find('<text x=\"225\" y=\"30\">')#<text x=\"225\" y=\"30\">\n",
    "    ind_stop  = soup_string.find('<',ind_start)\n",
    "    Power = soup_string[ind_start:ind_stop]+' kW'\n",
    "    return Power\n",
    "\n",
    "def getYiel():\n",
    "    url='http://optimasolar.solarlog-web.ch/sds/module/solarlogweb/Statistik.php?s=b503af4849c530eeaf7e1ebb4f40477f&m=SolarLogWeb&c=32393&mode=0&logid=5585&offset=0&r=131593278'\n",
    "    params ={'selectplane':'Cessna 208 Caravan','submit':''}\n",
    "    response=requests.post(url, data=params)\n",
    "    soup = BeautifulSoup(response.text, 'html5lib')\n",
    "    soup_string = str(soup)\n",
    "    ind_start = 12+soup_string.find('x=\"225\" y=\"30\">');\n",
    "    ind_start = 15+soup_string.find('x=\"225\" y=\"30\">', ind_start);\n",
    "    ind_stop  = soup_string.find('<',ind_start)\n",
    "    Yield = soup_string[ind_start:ind_stop]+' kWh'\n",
    "    return Yield\n",
    "\n",
    "def power(update, context):\n",
    "    Pow = getPow()\n",
    "    context.bot.send_message(chat_id=update.effective_chat.id, text=str(Pow))\n",
    "    \n",
    "def energy(update, context):\n",
    "    Yiel = getYiel()\n",
    "    context.bot.send_message(chat_id=update.effective_chat.id, text=str(Yiel))"
   ]
  },
  {
   "cell_type": "code",
   "execution_count": 10,
   "metadata": {},
   "outputs": [],
   "source": [
    "dispatcher = updater.dispatcher"
   ]
  },
  {
   "cell_type": "code",
   "execution_count": 11,
   "metadata": {},
   "outputs": [],
   "source": [
    "power_handler = CommandHandler('power', power)\n",
    "yield_handler = CommandHandler('yield',energy)\n",
    "dispatcher.add_handler(power_handler)\n",
    "dispatcher.add_handler(yield_handler)"
   ]
  },
  {
   "cell_type": "code",
   "execution_count": 12,
   "metadata": {},
   "outputs": [
    {
     "data": {
      "text/plain": [
       "<queue.Queue at 0x1111009e8>"
      ]
     },
     "execution_count": 12,
     "metadata": {},
     "output_type": "execute_result"
    }
   ],
   "source": [
    "updater.start_polling()"
   ]
  },
  {
   "cell_type": "markdown",
   "metadata": {},
   "source": [
    "Issues:\n",
    "* No unit in output (kW | kWh) (Solved 20191020)"
   ]
  },
  {
   "cell_type": "code",
   "execution_count": 26,
   "metadata": {},
   "outputs": [
    {
     "data": {
      "text/plain": [
       "'0'"
      ]
     },
     "execution_count": 26,
     "metadata": {},
     "output_type": "execute_result"
    }
   ],
   "source": [
    "getPow()"
   ]
  },
  {
   "cell_type": "code",
   "execution_count": null,
   "metadata": {},
   "outputs": [],
   "source": []
  }
 ],
 "metadata": {
  "kernelspec": {
   "display_name": "Python 3",
   "language": "python",
   "name": "python3"
  },
  "language_info": {
   "codemirror_mode": {
    "name": "ipython",
    "version": 3
   },
   "file_extension": ".py",
   "mimetype": "text/x-python",
   "name": "python",
   "nbconvert_exporter": "python",
   "pygments_lexer": "ipython3",
   "version": "3.6.9"
  }
 },
 "nbformat": 4,
 "nbformat_minor": 2
}
