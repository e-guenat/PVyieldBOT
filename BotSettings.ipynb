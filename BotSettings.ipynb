{
 "cells": [
  {
   "cell_type": "markdown",
   "metadata": {},
   "source": [
    "# Setting up the bot and pushing functions\n",
    "Setting up of the bot following this [Reference](https://github.com/python-telegram-bot/python-telegram-bot/wiki/Extensions-–-Your-first-Bot)"
   ]
  },
  {
   "cell_type": "code",
   "execution_count": 106,
   "metadata": {},
   "outputs": [],
   "source": [
    "from telegram.ext import Updater, InlineQueryHandler, CommandHandler\n",
    "import requests\n",
    "from bs4 import BeautifulSoup"
   ]
  },
  {
   "cell_type": "code",
   "execution_count": 107,
   "metadata": {},
   "outputs": [],
   "source": [
    "updater = Updater(token='ADD_TOKEN_HERE', use_context=True)"
   ]
  },
  {
   "cell_type": "code",
   "execution_count": 108,
   "metadata": {},
   "outputs": [],
   "source": [
    "def getPow():\n",
    "    url='http://optimasolar.solarlog-web.ch/sds/module/solarlogweb/Statistik.php?s=b503af4849c530eeaf7e1ebb4f40477f&m=SolarLogWeb&c=32393&mode=0&logid=5585&offset=0&r=131593278'\n",
    "    params ={'selectplane':'Cessna 208 Caravan','submit':''}\n",
    "    response=requests.post(url, data=params)\n",
    "    soup = BeautifulSoup(response.text, 'html5lib')\n",
    "    soup_string = str(soup)\n",
    "    ind_start = 21+soup_string.find('<text x=\"225\" y=\"30\">')#<text x=\"225\" y=\"30\">\n",
    "    ind_stop  = soup_string.find('<',ind_start)\n",
    "    Power = soup_string[ind_start:ind_stop]\n",
    "    return Power\n",
    "\n",
    "def getYiel():\n",
    "    url='http://optimasolar.solarlog-web.ch/sds/module/solarlogweb/Statistik.php?s=b503af4849c530eeaf7e1ebb4f40477f&m=SolarLogWeb&c=32393&mode=0&logid=5585&offset=0&r=131593278'\n",
    "    params ={'selectplane':'Cessna 208 Caravan','submit':''}\n",
    "    response=requests.post(url, data=params)\n",
    "    soup = BeautifulSoup(response.text, 'html5lib')\n",
    "    soup_string = str(soup)\n",
    "    ind_start = 12+soup_string.find('x1=\"42\" y1=\"');\n",
    "    ind_stop  = soup_string.find('\"',ind_start)\n",
    "    Yield = soup_string[ind_start:ind_stop]\n",
    "    return Yield\n",
    "\n",
    "def power(update, context):\n",
    "    Pow = getPow()\n",
    "    context.bot.send_message(chat_id=update.effective_chat.id, text=str(Pow))\n",
    "    \n",
    "def energy(update, context):\n",
    "    Yiel = getYiel()\n",
    "    context.bot.send_message(chat_id=update.effective_chat.id, text=str(Yiel))"
   ]
  },
  {
   "cell_type": "code",
   "execution_count": 109,
   "metadata": {},
   "outputs": [],
   "source": [
    "dispatcher = updater.dispatcher"
   ]
  },
  {
   "cell_type": "code",
   "execution_count": 110,
   "metadata": {},
   "outputs": [],
   "source": [
    "power_handler = CommandHandler('power', power)\n",
    "yield_handler = CommandHandler('yield',energy)\n",
    "dispatcher.add_handler(power_handler)\n",
    "dispatcher.add_handler(yield_handler)"
   ]
  },
  {
   "cell_type": "code",
   "execution_count": 1,
   "metadata": {},
   "outputs": [
    {
     "ename": "NameError",
     "evalue": "name 'updater' is not defined",
     "output_type": "error",
     "traceback": [
      "\u001b[0;31m---------------------------------------------------------------------------\u001b[0m",
      "\u001b[0;31mNameError\u001b[0m                                 Traceback (most recent call last)",
      "\u001b[0;32m<ipython-input-1-1568726495e0>\u001b[0m in \u001b[0;36m<module>\u001b[0;34m\u001b[0m\n\u001b[0;32m----> 1\u001b[0;31m \u001b[0mupdater\u001b[0m\u001b[0;34m.\u001b[0m\u001b[0mstart_polling\u001b[0m\u001b[0;34m(\u001b[0m\u001b[0;34m)\u001b[0m\u001b[0;34m\u001b[0m\u001b[0;34m\u001b[0m\u001b[0m\n\u001b[0m",
      "\u001b[0;31mNameError\u001b[0m: name 'updater' is not defined"
     ]
    }
   ],
   "source": [
    "updater.start_polling()"
   ]
  },
  {
   "cell_type": "markdown",
   "metadata": {},
   "source": [
    "Issues:\n",
    "* No unit in output (kW | kWh)"
   ]
  },
  {
   "cell_type": "code",
   "execution_count": null,
   "metadata": {},
   "outputs": [],
   "source": []
  }
 ],
 "metadata": {
  "kernelspec": {
   "display_name": "Python 3",
   "language": "python",
   "name": "python3"
  },
  "language_info": {
   "codemirror_mode": {
    "name": "ipython",
    "version": 3
   },
   "file_extension": ".py",
   "mimetype": "text/x-python",
   "name": "python",
   "nbconvert_exporter": "python",
   "pygments_lexer": "ipython3",
   "version": "3.6.9"
  }
 },
 "nbformat": 4,
 "nbformat_minor": 2
}
